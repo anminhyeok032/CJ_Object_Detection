{
  "cells": [
    {
      "cell_type": "markdown",
      "metadata": {
        "id": "view-in-github",
        "colab_type": "text"
      },
      "source": [
        "<a href=\"https://colab.research.google.com/github/anminhyeok032/CJ_Object_Detection/blob/main/CJProject%EC%9D%98_%EC%82%AC%EB%B3%B8.ipynb\" target=\"_parent\"><img src=\"https://colab.research.google.com/assets/colab-badge.svg\" alt=\"Open In Colab\"/></a>"
      ]
    },
    {
      "cell_type": "markdown",
      "metadata": {
        "id": "7mN4SrQddqQx"
      },
      "source": [
        "# CJ 프로젝트\n",
        "## CJ대한통운 미래기술챌린지 2023\n",
        "#### 미래기술챌린지 2023 , 2. 비전을 활용한 스마트 검수\n",
        "#### 사물 인식 프로그램\n",
        "\n",
        "마지막 수정일자 : 2023.8.9"
      ]
    },
    {
      "cell_type": "code",
      "execution_count": 37,
      "metadata": {
        "colab": {
          "base_uri": "https://localhost:8080/"
        },
        "id": "7bUFi16aI129",
        "outputId": "88d60af1-ef39-4c6a-ab53-a4266f9ded89"
      },
      "outputs": [
        {
          "output_type": "stream",
          "name": "stdout",
          "text": [
            "Drive already mounted at /content/drive; to attempt to forcibly remount, call drive.mount(\"/content/drive\", force_remount=True).\n"
          ]
        }
      ],
      "source": [
        "# 구글 드라이브 마운트\n",
        "from google.colab import drive\n",
        "drive.mount('/content/drive')"
      ]
    },
    {
      "cell_type": "code",
      "source": [
        "# Gpu 사용되는지 확인\n",
        "!nvidia-smi"
      ],
      "metadata": {
        "id": "dCqhb0mdin3w",
        "outputId": "0a152fe2-2338-42f4-f470-3e59dbd26888",
        "colab": {
          "base_uri": "https://localhost:8080/"
        }
      },
      "execution_count": 38,
      "outputs": [
        {
          "output_type": "stream",
          "name": "stdout",
          "text": [
            "Mon Aug 14 09:57:18 2023       \n",
            "+-----------------------------------------------------------------------------+\n",
            "| NVIDIA-SMI 525.105.17   Driver Version: 525.105.17   CUDA Version: 12.0     |\n",
            "|-------------------------------+----------------------+----------------------+\n",
            "| GPU  Name        Persistence-M| Bus-Id        Disp.A | Volatile Uncorr. ECC |\n",
            "| Fan  Temp  Perf  Pwr:Usage/Cap|         Memory-Usage | GPU-Util  Compute M. |\n",
            "|                               |                      |               MIG M. |\n",
            "|===============================+======================+======================|\n",
            "|   0  Tesla T4            Off  | 00000000:00:04.0 Off |                    0 |\n",
            "| N/A   55C    P8    10W /  70W |      0MiB / 15360MiB |      0%      Default |\n",
            "|                               |                      |                  N/A |\n",
            "+-------------------------------+----------------------+----------------------+\n",
            "                                                                               \n",
            "+-----------------------------------------------------------------------------+\n",
            "| Processes:                                                                  |\n",
            "|  GPU   GI   CI        PID   Type   Process name                  GPU Memory |\n",
            "|        ID   ID                                                   Usage      |\n",
            "|=============================================================================|\n",
            "|  No running processes found                                                 |\n",
            "+-----------------------------------------------------------------------------+\n"
          ]
        }
      ]
    },
    {
      "cell_type": "code",
      "execution_count": 39,
      "metadata": {
        "colab": {
          "base_uri": "https://localhost:8080/",
          "height": 1000
        },
        "id": "5KuEs80vi8_9",
        "outputId": "328354c5-e230-487b-a09d-8ffbca65549e"
      },
      "outputs": [
        {
          "output_type": "stream",
          "name": "stdout",
          "text": [
            "Traceback (most recent call last):\n",
            "  File \"/usr/local/bin/pip3\", line 8, in <module>\n",
            "    sys.exit(main())\n",
            "  File \"/usr/local/lib/python3.10/dist-packages/pip/_internal/cli/main.py\", line 77, in main\n",
            "    command = create_command(cmd_name, isolated=(\"--isolated\" in cmd_args))\n",
            "  File \"/usr/local/lib/python3.10/dist-packages/pip/_internal/commands/__init__.py\", line 114, in create_command\n",
            "    module = importlib.import_module(module_path)\n",
            "  File \"/usr/lib/python3.10/importlib/__init__.py\", line 126, in import_module\n",
            "    return _bootstrap._gcd_import(name[level:], package, level)\n",
            "  File \"<frozen importlib._bootstrap>\", line 1050, in _gcd_import\n",
            "  File \"<frozen importlib._bootstrap>\", line 1027, in _find_and_load\n",
            "  File \"<frozen importlib._bootstrap>\", line 1006, in _find_and_load_unlocked\n",
            "  File \"<frozen importlib._bootstrap>\", line 688, in _load_unlocked\n",
            "  File \"<frozen importlib._bootstrap_external>\", line 883, in exec_module\n",
            "  File \"<frozen importlib._bootstrap>\", line 241, in _call_with_frames_removed\n",
            "  File \"/usr/local/lib/python3.10/dist-packages/pip/_internal/commands/install.py\", line 15, in <module>\n",
            "    from pip._internal.cli.req_command import (\n",
            "  File \"/usr/local/lib/python3.10/dist-packages/pip/_internal/cli/req_command.py\", line 21, in <module>\n",
            "    from pip._internal.index.package_finder import PackageFinder\n",
            "  File \"/usr/local/lib/python3.10/dist-packages/pip/_internal/index/package_finder.py\", line 30, in <module>\n",
            "    from pip._internal.req import InstallRequirement\n",
            "  File \"/usr/local/lib/python3.10/dist-packages/pip/_internal/req/__init__.py\", line 8, in <module>\n",
            "    from .req_install import InstallRequirement\n",
            "  File \"/usr/local/lib/python3.10/dist-packages/pip/_internal/req/req_install.py\", line 42, in <module>\n",
            "    from pip._internal.operations.install.wheel import install_wheel\n",
            "  File \"/usr/local/lib/python3.10/dist-packages/pip/_internal/operations/install/wheel.py\", line 5, in <module>\n",
            "    import compileall\n",
            "  File \"/usr/lib/python3.10/compileall.py\", line 16, in <module>\n",
            "    import py_compile\n",
            "  File \"<frozen importlib._bootstrap>\", line 1027, in _find_and_load\n",
            "  File \"<frozen importlib._bootstrap>\", line 1006, in _find_and_load_unlocked\n",
            "  File \"<frozen importlib._bootstrap>\", line 688, in _load_unlocked\n",
            "  File \"<frozen importlib._bootstrap_external>\", line 879, in exec_module\n",
            "  File \"<frozen importlib._bootstrap_external>\", line 975, in get_code\n",
            "  File \"<frozen importlib._bootstrap_external>\", line 1074, in get_data\n",
            "KeyboardInterrupt\n",
            "^C\n",
            "loading Roboflow workspace...\n",
            "loading Roboflow project...\n",
            "Downloading Dataset Version Zip in test-15 to yolov7pytorch: 16% [21602304 / 127335965] bytes"
          ]
        },
        {
          "output_type": "error",
          "ename": "KeyboardInterrupt",
          "evalue": "ignored",
          "traceback": [
            "\u001b[0;31m---------------------------------------------------------------------------\u001b[0m",
            "\u001b[0;31mKeyboardInterrupt\u001b[0m                         Traceback (most recent call last)",
            "\u001b[0;32m<ipython-input-39-dbb9691c7d79>\u001b[0m in \u001b[0;36m<cell line: 8>\u001b[0;34m()\u001b[0m\n\u001b[1;32m      6\u001b[0m \u001b[0mrf\u001b[0m \u001b[0;34m=\u001b[0m \u001b[0mRoboflow\u001b[0m\u001b[0;34m(\u001b[0m\u001b[0mapi_key\u001b[0m\u001b[0;34m=\u001b[0m\u001b[0;34m\"oF44mtd4eZpMYEOulCOi\"\u001b[0m\u001b[0;34m)\u001b[0m\u001b[0;34m\u001b[0m\u001b[0;34m\u001b[0m\u001b[0m\n\u001b[1;32m      7\u001b[0m \u001b[0mproject\u001b[0m \u001b[0;34m=\u001b[0m \u001b[0mrf\u001b[0m\u001b[0;34m.\u001b[0m\u001b[0mworkspace\u001b[0m\u001b[0;34m(\u001b[0m\u001b[0;34m\"cjproject\"\u001b[0m\u001b[0;34m)\u001b[0m\u001b[0;34m.\u001b[0m\u001b[0mproject\u001b[0m\u001b[0;34m(\u001b[0m\u001b[0;34m\"test-cryu5\"\u001b[0m\u001b[0;34m)\u001b[0m\u001b[0;34m\u001b[0m\u001b[0;34m\u001b[0m\u001b[0m\n\u001b[0;32m----> 8\u001b[0;31m \u001b[0mdataset\u001b[0m \u001b[0;34m=\u001b[0m \u001b[0mproject\u001b[0m\u001b[0;34m.\u001b[0m\u001b[0mversion\u001b[0m\u001b[0;34m(\u001b[0m\u001b[0;36m15\u001b[0m\u001b[0;34m)\u001b[0m\u001b[0;34m.\u001b[0m\u001b[0mdownload\u001b[0m\u001b[0;34m(\u001b[0m\u001b[0;34m\"yolov7\"\u001b[0m\u001b[0;34m)\u001b[0m\u001b[0;34m\u001b[0m\u001b[0;34m\u001b[0m\u001b[0m\n\u001b[0m",
            "\u001b[0;32m/usr/local/lib/python3.10/dist-packages/roboflow/core/version.py\u001b[0m in \u001b[0;36mdownload\u001b[0;34m(self, model_format, location, overwrite)\u001b[0m\n\u001b[1;32m    218\u001b[0m                     \u001b[0mresponse\u001b[0m\u001b[0;34m.\u001b[0m\u001b[0mraise_for_status\u001b[0m\u001b[0;34m(\u001b[0m\u001b[0;34m)\u001b[0m\u001b[0;34m\u001b[0m\u001b[0;34m\u001b[0m\u001b[0m\n\u001b[1;32m    219\u001b[0m \u001b[0;34m\u001b[0m\u001b[0m\n\u001b[0;32m--> 220\u001b[0;31m         \u001b[0mself\u001b[0m\u001b[0;34m.\u001b[0m\u001b[0m__download_zip\u001b[0m\u001b[0;34m(\u001b[0m\u001b[0mlink\u001b[0m\u001b[0;34m,\u001b[0m \u001b[0mlocation\u001b[0m\u001b[0;34m,\u001b[0m \u001b[0mmodel_format\u001b[0m\u001b[0;34m)\u001b[0m\u001b[0;34m\u001b[0m\u001b[0;34m\u001b[0m\u001b[0m\n\u001b[0m\u001b[1;32m    221\u001b[0m         \u001b[0mself\u001b[0m\u001b[0;34m.\u001b[0m\u001b[0m__extract_zip\u001b[0m\u001b[0;34m(\u001b[0m\u001b[0mlocation\u001b[0m\u001b[0;34m,\u001b[0m \u001b[0mmodel_format\u001b[0m\u001b[0;34m)\u001b[0m\u001b[0;34m\u001b[0m\u001b[0;34m\u001b[0m\u001b[0m\n\u001b[1;32m    222\u001b[0m         \u001b[0mself\u001b[0m\u001b[0;34m.\u001b[0m\u001b[0m__reformat_yaml\u001b[0m\u001b[0;34m(\u001b[0m\u001b[0mlocation\u001b[0m\u001b[0;34m,\u001b[0m \u001b[0mmodel_format\u001b[0m\u001b[0;34m)\u001b[0m\u001b[0;34m\u001b[0m\u001b[0;34m\u001b[0m\u001b[0m\n",
            "\u001b[0;32m/usr/local/lib/python3.10/dist-packages/roboflow/core/version.py\u001b[0m in \u001b[0;36m__download_zip\u001b[0;34m(self, link, location, format)\u001b[0m\n\u001b[1;32m    632\u001b[0m \u001b[0;34m\u001b[0m\u001b[0m\n\u001b[1;32m    633\u001b[0m         \u001b[0;32mtry\u001b[0m\u001b[0;34m:\u001b[0m\u001b[0;34m\u001b[0m\u001b[0;34m\u001b[0m\u001b[0m\n\u001b[0;32m--> 634\u001b[0;31m             \u001b[0mwget\u001b[0m\u001b[0;34m.\u001b[0m\u001b[0mdownload\u001b[0m\u001b[0;34m(\u001b[0m\u001b[0mlink\u001b[0m\u001b[0;34m,\u001b[0m \u001b[0mout\u001b[0m\u001b[0;34m=\u001b[0m\u001b[0mlocation\u001b[0m \u001b[0;34m+\u001b[0m \u001b[0;34m\"/roboflow.zip\"\u001b[0m\u001b[0;34m,\u001b[0m \u001b[0mbar\u001b[0m\u001b[0;34m=\u001b[0m\u001b[0mbar_progress\u001b[0m\u001b[0;34m)\u001b[0m\u001b[0;34m\u001b[0m\u001b[0;34m\u001b[0m\u001b[0m\n\u001b[0m\u001b[1;32m    635\u001b[0m         \u001b[0;32mexcept\u001b[0m \u001b[0mException\u001b[0m \u001b[0;32mas\u001b[0m \u001b[0me\u001b[0m\u001b[0;34m:\u001b[0m\u001b[0;34m\u001b[0m\u001b[0;34m\u001b[0m\u001b[0m\n\u001b[1;32m    636\u001b[0m             \u001b[0mprint\u001b[0m\u001b[0;34m(\u001b[0m\u001b[0;34mf\"Error when trying to download dataset @ {link}\"\u001b[0m\u001b[0;34m)\u001b[0m\u001b[0;34m\u001b[0m\u001b[0;34m\u001b[0m\u001b[0m\n",
            "\u001b[0;32m/usr/local/lib/python3.10/dist-packages/wget.py\u001b[0m in \u001b[0;36mdownload\u001b[0;34m(url, out, bar)\u001b[0m\n\u001b[1;32m    524\u001b[0m     \u001b[0;32melse\u001b[0m\u001b[0;34m:\u001b[0m\u001b[0;34m\u001b[0m\u001b[0;34m\u001b[0m\u001b[0m\n\u001b[1;32m    525\u001b[0m         \u001b[0mbinurl\u001b[0m \u001b[0;34m=\u001b[0m \u001b[0murl\u001b[0m\u001b[0;34m\u001b[0m\u001b[0;34m\u001b[0m\u001b[0m\n\u001b[0;32m--> 526\u001b[0;31m     \u001b[0;34m(\u001b[0m\u001b[0mtmpfile\u001b[0m\u001b[0;34m,\u001b[0m \u001b[0mheaders\u001b[0m\u001b[0;34m)\u001b[0m \u001b[0;34m=\u001b[0m \u001b[0mulib\u001b[0m\u001b[0;34m.\u001b[0m\u001b[0murlretrieve\u001b[0m\u001b[0;34m(\u001b[0m\u001b[0mbinurl\u001b[0m\u001b[0;34m,\u001b[0m \u001b[0mtmpfile\u001b[0m\u001b[0;34m,\u001b[0m \u001b[0mcallback\u001b[0m\u001b[0;34m)\u001b[0m\u001b[0;34m\u001b[0m\u001b[0;34m\u001b[0m\u001b[0m\n\u001b[0m\u001b[1;32m    527\u001b[0m     \u001b[0mfilename\u001b[0m \u001b[0;34m=\u001b[0m \u001b[0mdetect_filename\u001b[0m\u001b[0;34m(\u001b[0m\u001b[0murl\u001b[0m\u001b[0;34m,\u001b[0m \u001b[0mout\u001b[0m\u001b[0;34m,\u001b[0m \u001b[0mheaders\u001b[0m\u001b[0;34m)\u001b[0m\u001b[0;34m\u001b[0m\u001b[0;34m\u001b[0m\u001b[0m\n\u001b[1;32m    528\u001b[0m     \u001b[0;32mif\u001b[0m \u001b[0moutdir\u001b[0m\u001b[0;34m:\u001b[0m\u001b[0;34m\u001b[0m\u001b[0;34m\u001b[0m\u001b[0m\n",
            "\u001b[0;32m/usr/lib/python3.10/urllib/request.py\u001b[0m in \u001b[0;36murlretrieve\u001b[0;34m(url, filename, reporthook, data)\u001b[0m\n\u001b[1;32m    275\u001b[0m                 \u001b[0mblocknum\u001b[0m \u001b[0;34m+=\u001b[0m \u001b[0;36m1\u001b[0m\u001b[0;34m\u001b[0m\u001b[0;34m\u001b[0m\u001b[0m\n\u001b[1;32m    276\u001b[0m                 \u001b[0;32mif\u001b[0m \u001b[0mreporthook\u001b[0m\u001b[0;34m:\u001b[0m\u001b[0;34m\u001b[0m\u001b[0;34m\u001b[0m\u001b[0m\n\u001b[0;32m--> 277\u001b[0;31m                     \u001b[0mreporthook\u001b[0m\u001b[0;34m(\u001b[0m\u001b[0mblocknum\u001b[0m\u001b[0;34m,\u001b[0m \u001b[0mbs\u001b[0m\u001b[0;34m,\u001b[0m \u001b[0msize\u001b[0m\u001b[0;34m)\u001b[0m\u001b[0;34m\u001b[0m\u001b[0;34m\u001b[0m\u001b[0m\n\u001b[0m\u001b[1;32m    278\u001b[0m \u001b[0;34m\u001b[0m\u001b[0m\n\u001b[1;32m    279\u001b[0m     \u001b[0;32mif\u001b[0m \u001b[0msize\u001b[0m \u001b[0;34m>=\u001b[0m \u001b[0;36m0\u001b[0m \u001b[0;32mand\u001b[0m \u001b[0mread\u001b[0m \u001b[0;34m<\u001b[0m \u001b[0msize\u001b[0m\u001b[0;34m:\u001b[0m\u001b[0;34m\u001b[0m\u001b[0;34m\u001b[0m\u001b[0m\n",
            "\u001b[0;32m/usr/local/lib/python3.10/dist-packages/wget.py\u001b[0m in \u001b[0;36mcallback_charged\u001b[0;34m(blocks, block_size, total_size)\u001b[0m\n\u001b[1;32m    511\u001b[0m     \u001b[0;32mdef\u001b[0m \u001b[0mcallback_charged\u001b[0m\u001b[0;34m(\u001b[0m\u001b[0mblocks\u001b[0m\u001b[0;34m,\u001b[0m \u001b[0mblock_size\u001b[0m\u001b[0;34m,\u001b[0m \u001b[0mtotal_size\u001b[0m\u001b[0;34m)\u001b[0m\u001b[0;34m:\u001b[0m\u001b[0;34m\u001b[0m\u001b[0;34m\u001b[0m\u001b[0m\n\u001b[1;32m    512\u001b[0m         \u001b[0;31m# 'closure' to set bar drawing function in callback\u001b[0m\u001b[0;34m\u001b[0m\u001b[0;34m\u001b[0m\u001b[0m\n\u001b[0;32m--> 513\u001b[0;31m         \u001b[0mcallback_progress\u001b[0m\u001b[0;34m(\u001b[0m\u001b[0mblocks\u001b[0m\u001b[0;34m,\u001b[0m \u001b[0mblock_size\u001b[0m\u001b[0;34m,\u001b[0m \u001b[0mtotal_size\u001b[0m\u001b[0;34m,\u001b[0m \u001b[0mbar_function\u001b[0m\u001b[0;34m=\u001b[0m\u001b[0mbar\u001b[0m\u001b[0;34m)\u001b[0m\u001b[0;34m\u001b[0m\u001b[0;34m\u001b[0m\u001b[0m\n\u001b[0m\u001b[1;32m    514\u001b[0m     \u001b[0;32mif\u001b[0m \u001b[0mbar\u001b[0m\u001b[0;34m:\u001b[0m\u001b[0;34m\u001b[0m\u001b[0;34m\u001b[0m\u001b[0m\n\u001b[1;32m    515\u001b[0m         \u001b[0mcallback\u001b[0m \u001b[0;34m=\u001b[0m \u001b[0mcallback_charged\u001b[0m\u001b[0;34m\u001b[0m\u001b[0;34m\u001b[0m\u001b[0m\n",
            "\u001b[0;32m/usr/local/lib/python3.10/dist-packages/wget.py\u001b[0m in \u001b[0;36mcallback_progress\u001b[0;34m(blocks, block_size, total_size, bar_function)\u001b[0m\n\u001b[1;32m    469\u001b[0m     \u001b[0;32melse\u001b[0m\u001b[0;34m:\u001b[0m\u001b[0;34m\u001b[0m\u001b[0;34m\u001b[0m\u001b[0m\n\u001b[1;32m    470\u001b[0m         \u001b[0mcurrent_size\u001b[0m \u001b[0;34m=\u001b[0m \u001b[0mmin\u001b[0m\u001b[0;34m(\u001b[0m\u001b[0mblocks\u001b[0m\u001b[0;34m*\u001b[0m\u001b[0mblock_size\u001b[0m\u001b[0;34m,\u001b[0m \u001b[0mtotal_size\u001b[0m\u001b[0;34m)\u001b[0m\u001b[0;34m\u001b[0m\u001b[0;34m\u001b[0m\u001b[0m\n\u001b[0;32m--> 471\u001b[0;31m     \u001b[0mprogress\u001b[0m \u001b[0;34m=\u001b[0m \u001b[0mbar_function\u001b[0m\u001b[0;34m(\u001b[0m\u001b[0mcurrent_size\u001b[0m\u001b[0;34m,\u001b[0m \u001b[0mtotal_size\u001b[0m\u001b[0;34m,\u001b[0m \u001b[0mwidth\u001b[0m\u001b[0;34m)\u001b[0m\u001b[0;34m\u001b[0m\u001b[0;34m\u001b[0m\u001b[0m\n\u001b[0m\u001b[1;32m    472\u001b[0m     \u001b[0;32mif\u001b[0m \u001b[0mprogress\u001b[0m\u001b[0;34m:\u001b[0m\u001b[0;34m\u001b[0m\u001b[0;34m\u001b[0m\u001b[0m\n\u001b[1;32m    473\u001b[0m         \u001b[0msys\u001b[0m\u001b[0;34m.\u001b[0m\u001b[0mstdout\u001b[0m\u001b[0;34m.\u001b[0m\u001b[0mwrite\u001b[0m\u001b[0;34m(\u001b[0m\u001b[0;34m\"\\r\"\u001b[0m \u001b[0;34m+\u001b[0m \u001b[0mprogress\u001b[0m\u001b[0;34m)\u001b[0m\u001b[0;34m\u001b[0m\u001b[0;34m\u001b[0m\u001b[0m\n",
            "\u001b[0;32m/usr/local/lib/python3.10/dist-packages/roboflow/core/version.py\u001b[0m in \u001b[0;36mbar_progress\u001b[0;34m(current, total, width)\u001b[0m\n\u001b[1;32m    629\u001b[0m             )\n\u001b[1;32m    630\u001b[0m             \u001b[0msys\u001b[0m\u001b[0;34m.\u001b[0m\u001b[0mstdout\u001b[0m\u001b[0;34m.\u001b[0m\u001b[0mwrite\u001b[0m\u001b[0;34m(\u001b[0m\u001b[0;34m\"\\r\"\u001b[0m \u001b[0;34m+\u001b[0m \u001b[0mprogress_message\u001b[0m\u001b[0;34m)\u001b[0m\u001b[0;34m\u001b[0m\u001b[0;34m\u001b[0m\u001b[0m\n\u001b[0;32m--> 631\u001b[0;31m             \u001b[0msys\u001b[0m\u001b[0;34m.\u001b[0m\u001b[0mstdout\u001b[0m\u001b[0;34m.\u001b[0m\u001b[0mflush\u001b[0m\u001b[0;34m(\u001b[0m\u001b[0;34m)\u001b[0m\u001b[0;34m\u001b[0m\u001b[0;34m\u001b[0m\u001b[0m\n\u001b[0m\u001b[1;32m    632\u001b[0m \u001b[0;34m\u001b[0m\u001b[0m\n\u001b[1;32m    633\u001b[0m         \u001b[0;32mtry\u001b[0m\u001b[0;34m:\u001b[0m\u001b[0;34m\u001b[0m\u001b[0;34m\u001b[0m\u001b[0m\n",
            "\u001b[0;32m/usr/local/lib/python3.10/dist-packages/ipykernel/iostream.py\u001b[0m in \u001b[0;36mflush\u001b[0;34m(self)\u001b[0m\n\u001b[1;32m    348\u001b[0m                 \u001b[0mself\u001b[0m\u001b[0;34m.\u001b[0m\u001b[0mpub_thread\u001b[0m\u001b[0;34m.\u001b[0m\u001b[0mschedule\u001b[0m\u001b[0;34m(\u001b[0m\u001b[0mevt\u001b[0m\u001b[0;34m.\u001b[0m\u001b[0mset\u001b[0m\u001b[0;34m)\u001b[0m\u001b[0;34m\u001b[0m\u001b[0;34m\u001b[0m\u001b[0m\n\u001b[1;32m    349\u001b[0m                 \u001b[0;31m# and give a timeout to avoid\u001b[0m\u001b[0;34m\u001b[0m\u001b[0;34m\u001b[0m\u001b[0m\n\u001b[0;32m--> 350\u001b[0;31m                 \u001b[0;32mif\u001b[0m \u001b[0;32mnot\u001b[0m \u001b[0mevt\u001b[0m\u001b[0;34m.\u001b[0m\u001b[0mwait\u001b[0m\u001b[0;34m(\u001b[0m\u001b[0mself\u001b[0m\u001b[0;34m.\u001b[0m\u001b[0mflush_timeout\u001b[0m\u001b[0;34m)\u001b[0m\u001b[0;34m:\u001b[0m\u001b[0;34m\u001b[0m\u001b[0;34m\u001b[0m\u001b[0m\n\u001b[0m\u001b[1;32m    351\u001b[0m                     \u001b[0;31m# write directly to __stderr__ instead of warning because\u001b[0m\u001b[0;34m\u001b[0m\u001b[0;34m\u001b[0m\u001b[0m\n\u001b[1;32m    352\u001b[0m                     \u001b[0;31m# if this is happening sys.stderr may be the problem.\u001b[0m\u001b[0;34m\u001b[0m\u001b[0;34m\u001b[0m\u001b[0m\n",
            "\u001b[0;32m/usr/lib/python3.10/threading.py\u001b[0m in \u001b[0;36mwait\u001b[0;34m(self, timeout)\u001b[0m\n\u001b[1;32m    605\u001b[0m             \u001b[0msignaled\u001b[0m \u001b[0;34m=\u001b[0m \u001b[0mself\u001b[0m\u001b[0;34m.\u001b[0m\u001b[0m_flag\u001b[0m\u001b[0;34m\u001b[0m\u001b[0;34m\u001b[0m\u001b[0m\n\u001b[1;32m    606\u001b[0m             \u001b[0;32mif\u001b[0m \u001b[0;32mnot\u001b[0m \u001b[0msignaled\u001b[0m\u001b[0;34m:\u001b[0m\u001b[0;34m\u001b[0m\u001b[0;34m\u001b[0m\u001b[0m\n\u001b[0;32m--> 607\u001b[0;31m                 \u001b[0msignaled\u001b[0m \u001b[0;34m=\u001b[0m \u001b[0mself\u001b[0m\u001b[0;34m.\u001b[0m\u001b[0m_cond\u001b[0m\u001b[0;34m.\u001b[0m\u001b[0mwait\u001b[0m\u001b[0;34m(\u001b[0m\u001b[0mtimeout\u001b[0m\u001b[0;34m)\u001b[0m\u001b[0;34m\u001b[0m\u001b[0;34m\u001b[0m\u001b[0m\n\u001b[0m\u001b[1;32m    608\u001b[0m             \u001b[0;32mreturn\u001b[0m \u001b[0msignaled\u001b[0m\u001b[0;34m\u001b[0m\u001b[0;34m\u001b[0m\u001b[0m\n\u001b[1;32m    609\u001b[0m \u001b[0;34m\u001b[0m\u001b[0m\n",
            "\u001b[0;32m/usr/lib/python3.10/threading.py\u001b[0m in \u001b[0;36mwait\u001b[0;34m(self, timeout)\u001b[0m\n\u001b[1;32m    322\u001b[0m             \u001b[0;32melse\u001b[0m\u001b[0;34m:\u001b[0m\u001b[0;34m\u001b[0m\u001b[0;34m\u001b[0m\u001b[0m\n\u001b[1;32m    323\u001b[0m                 \u001b[0;32mif\u001b[0m \u001b[0mtimeout\u001b[0m \u001b[0;34m>\u001b[0m \u001b[0;36m0\u001b[0m\u001b[0;34m:\u001b[0m\u001b[0;34m\u001b[0m\u001b[0;34m\u001b[0m\u001b[0m\n\u001b[0;32m--> 324\u001b[0;31m                     \u001b[0mgotit\u001b[0m \u001b[0;34m=\u001b[0m \u001b[0mwaiter\u001b[0m\u001b[0;34m.\u001b[0m\u001b[0macquire\u001b[0m\u001b[0;34m(\u001b[0m\u001b[0;32mTrue\u001b[0m\u001b[0;34m,\u001b[0m \u001b[0mtimeout\u001b[0m\u001b[0;34m)\u001b[0m\u001b[0;34m\u001b[0m\u001b[0;34m\u001b[0m\u001b[0m\n\u001b[0m\u001b[1;32m    325\u001b[0m                 \u001b[0;32melse\u001b[0m\u001b[0;34m:\u001b[0m\u001b[0;34m\u001b[0m\u001b[0;34m\u001b[0m\u001b[0m\n\u001b[1;32m    326\u001b[0m                     \u001b[0mgotit\u001b[0m \u001b[0;34m=\u001b[0m \u001b[0mwaiter\u001b[0m\u001b[0;34m.\u001b[0m\u001b[0macquire\u001b[0m\u001b[0;34m(\u001b[0m\u001b[0;32mFalse\u001b[0m\u001b[0;34m)\u001b[0m\u001b[0;34m\u001b[0m\u001b[0;34m\u001b[0m\u001b[0m\n",
            "\u001b[0;31mKeyboardInterrupt\u001b[0m: "
          ]
        }
      ],
      "source": [
        "# 기존 학습 데이터 ( test-15 (x3) )\n",
        "# roboflow 가 프로젝트 generate가 안될시 새로 파서 병합하기\n",
        "!pip install roboflow\n",
        "\n",
        "from roboflow import Roboflow\n",
        "rf = Roboflow(api_key=\"oF44mtd4eZpMYEOulCOi\")\n",
        "project = rf.workspace(\"cjproject\").project(\"test-cryu5\")\n",
        "dataset = project.version(15).download(\"yolov7\")"
      ]
    },
    {
      "cell_type": "code",
      "execution_count": null,
      "metadata": {
        "id": "8p1603VijJ_x"
      },
      "outputs": [],
      "source": [
        "# yolov7 필수 요소 다운로드\n",
        "!git clone https://github.com/SkalskiP/yolov7.git\n",
        "%cd yolov7\n",
        "!git checkout fix/problems_associated_with_the_latest_versions_of_pytorch_and_numpy\n",
        "!pip install -r requirements.txt"
      ]
    },
    {
      "cell_type": "code",
      "source": [
        "# 드라이브에서 pt파일 yolov5 폴더로 이동\n",
        "# 드라이브 경로가 다를시 수정 요망\n",
        "!cp /content/drive/MyDrive/cj_data/0813_best_yolov7_xl.pt /content/yolov7"
      ],
      "metadata": {
        "id": "ADjofm4yKNNC"
      },
      "execution_count": null,
      "outputs": []
    },
    {
      "cell_type": "code",
      "source": [
        "# 엑셀 파일들 드라이브에서 끌어오기\n",
        "# 직접 올린다면 굳이 실행하지 않아도 된다.\n",
        "!cp /content/drive/MyDrive/cj_data/iou_names.xlsx /content/yolov7\n",
        "!cp /content/drive/MyDrive/cj_data/labels.xlsx /content/yolov7\n",
        "!cp /content/drive/MyDrive/cj_data/iou_index.xlsx /content/yolov7"
      ],
      "metadata": {
        "id": "mb1iYP2gZ-ZS"
      },
      "execution_count": null,
      "outputs": []
    },
    {
      "cell_type": "code",
      "source": [
        "# detect 파일 github에서 끌어오기\n",
        "# github가 public 상태 일때만 끌어올 수 있다.\n",
        "%cd /content\n",
        "!git clone https://github.com/anminhyeok032/CJ_Object_Detection.git\n",
        "!cp /content/CJ_Object_Detection/detect.py /content/yolov7"
      ],
      "metadata": {
        "id": "YQKSYcSZYs9X"
      },
      "execution_count": null,
      "outputs": []
    },
    {
      "cell_type": "code",
      "execution_count": null,
      "metadata": {
        "id": "Wmum2kbAj-h3"
      },
      "outputs": [],
      "source": [
        "# data.yaml 파일 클래스 수 확인\n",
        "%cat /content/test-15/data.yaml"
      ]
    },
    {
      "cell_type": "code",
      "execution_count": null,
      "metadata": {
        "id": "59bxmTd0krk4"
      },
      "outputs": [],
      "source": [
        "%cd /\n",
        "# 추가 학습시에 val 설정 다시 할것\n",
        "from glob import glob\n",
        "\n",
        "train_img_list = glob('/content/test-15/train/images/*.jpg')\n",
        "val_img_list = glob('/content/test-15/train/images/*.jpg')\n",
        "\n",
        "print(len(train_img_list), len(val_img_list))"
      ]
    },
    {
      "cell_type": "code",
      "execution_count": null,
      "metadata": {
        "id": "YewU3sWClTyh"
      },
      "outputs": [],
      "source": [
        "# 추가 학습시에 val 설정 다시 할것\n",
        "with open('/content/test-15/train.txt', 'w') as f:\n",
        "  f.write('\\n'.join(train_img_list) + '\\n')\n",
        "\n",
        "with open('/content/test-15/val.txt', 'w') as f:\n",
        "  f.write('\\n'.join(val_img_list) + '\\n')"
      ]
    },
    {
      "cell_type": "code",
      "execution_count": null,
      "metadata": {
        "id": "w8JhXyYBlrrW"
      },
      "outputs": [],
      "source": [
        "# 추가 학습시에 val 설정 다시 할것\n",
        "import yaml\n",
        "\n",
        "with open('/content/test-15/data.yaml', 'r') as f:\n",
        "  data = yaml. safe_load(f)\n",
        "\n",
        "print(data)\n",
        "\n",
        "data['train'] = '/content/test-15/train.txt'\n",
        "data['val'] = '/content/test-15/val.txt'\n",
        "\n",
        "with open('/content/test-15/data.yaml', 'w') as f:\n",
        "  yaml.dump(data, f)\n",
        "\n",
        "print(data)"
      ]
    },
    {
      "cell_type": "code",
      "source": [
        "# run this cell to begin training\n",
        "# ***yolov7***\n",
        "%cd /content/yolov7\n",
        "!python train.py --batch 8 --epochs 55 --data /content/test-15/data.yaml --weights '0813_best_yolov7_xl.pt' --device 0 --cache --freeze 105\n"
      ],
      "metadata": {
        "id": "jb4pLRA3jz93"
      },
      "execution_count": null,
      "outputs": []
    },
    {
      "cell_type": "code",
      "execution_count": null,
      "metadata": {
        "id": "GtjxU5JqvpZg"
      },
      "outputs": [],
      "source": [
        "# tensor 보드를 통해 학습 수준 확인\n",
        "%load_ext tensorboard\n",
        "%tensorboard --logdir /content/yolov7/runs/"
      ]
    },
    {
      "cell_type": "code",
      "execution_count": null,
      "metadata": {
        "id": "iCrsrty62dOL"
      },
      "outputs": [],
      "source": [
        "# 기존 train 데이터셋 확인\n",
        "cnt = 0\n",
        "for i in train_img_list :\n",
        "  print(cnt,i+'\\n')\n",
        "  cnt = cnt+1"
      ]
    },
    {
      "cell_type": "code",
      "source": [
        "# 한글 폰트 다운로드\n",
        "!wget \"https://www.wfonts.com/download/data/2016/06/13/malgun-gothic/malgun.ttf\"\n",
        "!mv malgun.ttf /usr/share/fonts/truetype/"
      ],
      "metadata": {
        "id": "znRiwd7wxnHN"
      },
      "execution_count": null,
      "outputs": []
    },
    {
      "cell_type": "code",
      "source": [
        "# detect yolov7\n",
        "%cd /content/yolov7\n",
        "val_img_path = '/content/test-15/train/images/cart_0802_jpg.rf.14567b11bac23c59da95b1d09b78225a.jpg'\n",
        "# val_img_path = '/content/test-15/train/images/13579-24218-sampleM_jpg.rf.2ca4df68416e8fd3a23fd14066fc8e81.jpg'\n",
        "!python detect.py --weights /content/yolov7/runs/train/exp8/weights/best.pt --img-size 640 --conf 0.1 --source \"{val_img_path}\" --agnostic-nms"
      ],
      "metadata": {
        "id": "sn_zMKCrlEMZ",
        "outputId": "af273177-93d2-417b-d490-f9b3e16e93ae",
        "colab": {
          "base_uri": "https://localhost:8080/"
        }
      },
      "execution_count": 41,
      "outputs": [
        {
          "output_type": "stream",
          "name": "stdout",
          "text": [
            "/content/yolov7\n",
            "Namespace(weights=['/content/yolov7/runs/train/exp8/weights/best.pt'], source='/content/test-15/train/images/cart_0802_jpg.rf.14567b11bac23c59da95b1d09b78225a.jpg', img_size=640, conf_thres=0.1, iou_thres=0.45, device='', view_img=False, save_txt=False, save_conf=False, nosave=False, classes=None, agnostic_nms=True, augment=False, update=False, project='runs/detect', name='exp', exist_ok=False, no_trace=False)\n",
            "YOLOR 🚀 b2a7de9 torch 2.0.1+cu118 CUDA:0 (Tesla T4, 15101.8125MB)\n",
            "\n",
            "Fusing layers... \n",
            "/usr/local/lib/python3.10/dist-packages/torch/functional.py:504: UserWarning: torch.meshgrid: in an upcoming release, it will be required to pass the indexing argument. (Triggered internally at ../aten/src/ATen/native/TensorShape.cpp:3483.)\n",
            "  return _VF.meshgrid(tensors, **kwargs)  # type: ignore[attr-defined]\n",
            "Model Summary: 354 layers, 71453050 parameters, 0 gradients, 190.1 GFLOPS\n",
            " Convert model to Traced-model... \n",
            " traced_script_module saved! \n",
            " model is traced! \n",
            "\n",
            "[['107', '101', '226', '276', '360']]\n",
            "[['107', '101', '226', '276', '360'], ['35', '386', '479', '402', '612']]\n",
            "[['107', '101', '226', '276', '360'], ['35', '386', '479', '402', '612'], ['105', '119', '414', '251', '480']]\n",
            "[['107', '101', '226', '276', '360'], ['35', '386', '479', '402', '612'], ['105', '119', '414', '251', '480'], ['13', '399', '254', '553', '341']]\n",
            "[['107', '101', '226', '276', '360'], ['35', '386', '479', '402', '612'], ['105', '119', '414', '251', '480'], ['13', '399', '254', '553', '341'], ['90', '116', '176', '204', '216']]\n",
            "[['107', '101', '226', '276', '360'], ['35', '386', '479', '402', '612'], ['105', '119', '414', '251', '480'], ['13', '399', '254', '553', '341'], ['90', '116', '176', '204', '216'], ['35', '360', '499', '430', '591']]\n",
            "[['107', '101', '226', '276', '360'], ['35', '386', '479', '402', '612'], ['105', '119', '414', '251', '480'], ['13', '399', '254', '553', '341'], ['90', '116', '176', '204', '216'], ['35', '360', '499', '430', '591'], ['88', '111', '209', '223', '257']]\n",
            "[['107', '101', '226', '276', '360'], ['35', '386', '479', '402', '612'], ['105', '119', '414', '251', '480'], ['13', '399', '254', '553', '341'], ['90', '116', '176', '204', '216'], ['35', '360', '499', '430', '591'], ['88', '111', '209', '223', '257'], ['61', '477', '483', '568', '606']]\n",
            "[['107', '101', '226', '276', '360'], ['35', '386', '479', '402', '612'], ['105', '119', '414', '251', '480'], ['13', '399', '254', '553', '341'], ['90', '116', '176', '204', '216'], ['35', '360', '499', '430', '591'], ['88', '111', '209', '223', '257'], ['61', '477', '483', '568', '606'], ['61', '413', '486', '502', '605']]\n",
            "[['107', '101', '226', '276', '360'], ['35', '386', '479', '402', '612'], ['105', '119', '414', '251', '480'], ['13', '399', '254', '553', '341'], ['90', '116', '176', '204', '216'], ['35', '360', '499', '430', '591'], ['88', '111', '209', '223', '257'], ['61', '477', '483', '568', '606'], ['61', '413', '486', '502', '605'], ['76', '124', '350', '270', '418']]\n",
            "[['107', '101', '226', '276', '360'], ['35', '386', '479', '402', '612'], ['105', '119', '414', '251', '480'], ['13', '399', '254', '553', '341'], ['90', '116', '176', '204', '216'], ['35', '360', '499', '430', '591'], ['88', '111', '209', '223', '257'], ['61', '477', '483', '568', '606'], ['61', '413', '486', '502', '605'], ['76', '124', '350', '270', '418'], ['81', '362', '165', '544', '243']]\n",
            "1 105, 1 107, 1 13, 2 35s, 2 61s, 1 76, 1 81, 1 88, 1 90, Done. (37.0ms) Inference, (1.6ms) NMS\n",
            "*** iou 계산을 위해 제공된 좌표 값 ***\n",
            "[['61', '417', '492', 913, 1087], ['61', '483', '491', 1039, 1090], ['35', '360', '492', 789, 1087], ['105', '123', '419', 375, 896], ['76', '115', '353', 381, 762], ['107', '100', '250', 378, 595], ['88', '120', '205', 334, 456], ['13', '402', '248', 944, 586], ['81', '390', '158', 921, 400], ['90', '109', '176', 324, 380]]\n",
            "*** 인식된 상품 좌표 값 ***\n",
            "[['107', '101', '226', '276', '360'], ['35', '386', '479', '402', '612'], ['105', '119', '414', '251', '480'], ['13', '399', '254', '553', '341'], ['90', '116', '176', '204', '216'], ['35', '360', '499', '430', '591'], ['88', '111', '209', '223', '257'], ['61', '477', '483', '568', '606'], ['61', '413', '486', '502', '605'], ['76', '124', '350', '270', '418'], ['81', '362', '165', '544', '243']]\n",
            "1 / 10 결과\n",
            "[0.04, 0.03]\n",
            "['코카콜라 오리지널 pet', 0.04]\n",
            "*** 데이터 저장 완료 ***\n",
            "\n",
            "result : cjproject_result.txt\n",
            "2 / 10 결과\n",
            "[0.03, 0.01]\n",
            "['코카콜라 오리지널 pet', 0.03]\n",
            "*** 데이터 저장 완료 ***\n",
            "\n",
            "result : cjproject_result.txt\n",
            "3 / 10 결과\n",
            "[0.01, 0.03]\n",
            "['솔의눈 pet', 0.03]\n",
            "*** 데이터 저장 완료 ***\n",
            "\n",
            "result : cjproject_result.txt\n",
            "4 / 10 결과\n",
            "[0.07]\n",
            "['농심 튀김우동 큰사발면', 0.07]\n",
            "*** 데이터 저장 완료 ***\n",
            "\n",
            "result : cjproject_result.txt\n",
            "5 / 10 결과\n",
            "[0.09]\n",
            "['농심 오징어짬뽕 큰사발면', 0.09]\n",
            "*** 데이터 저장 완료 ***\n",
            "\n",
            "result : cjproject_result.txt\n",
            "6 / 10 결과\n",
            "[0.19]\n",
            "['농심 사리곰탕 큰사발면', 0.19]\n",
            "*** 데이터 저장 완료 ***\n",
            "\n",
            "result : cjproject_result.txt\n",
            "7 / 10 결과\n",
            "[0.09]\n",
            "['농심 오징어짬뽕 컵', 0.09]\n",
            "*** 데이터 저장 완료 ***\n",
            "\n",
            "result : cjproject_result.txt\n",
            "8 / 10 결과\n",
            "[0.07]\n",
            "['신라면 컵 15개입', 0.07]\n",
            "*** 데이터 저장 완료 ***\n",
            "\n",
            "result : cjproject_result.txt\n",
            "9 / 10 결과\n",
            "[0.09]\n",
            "['오뚜기 콕콕콕 스파게티 용기면', 0.09]\n",
            "*** 데이터 저장 완료 ***\n",
            "\n",
            "result : cjproject_result.txt\n",
            "10 / 10 결과\n",
            "[0.08]\n",
            "['오뚜기 컵누들 매콤한 맛', 0.08]\n",
            "*** 데이터 저장 완료 ***\n",
            "\n",
            "result : cjproject_result.txt\n",
            " The image with the result is saved in: runs/detect/exp6/cart_0802_jpg.rf.14567b11bac23c59da95b1d09b78225a.jpg\n",
            "Done. (0.197s)\n"
          ]
        }
      ]
    }
  ],
  "metadata": {
    "colab": {
      "provenance": [],
      "gpuType": "T4",
      "include_colab_link": true
    },
    "kernelspec": {
      "display_name": "Python 3",
      "name": "python3"
    },
    "accelerator": "GPU"
  },
  "nbformat": 4,
  "nbformat_minor": 0
}