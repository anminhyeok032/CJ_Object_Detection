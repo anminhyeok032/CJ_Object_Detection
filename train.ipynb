{
  "cells": [
    {
      "cell_type": "markdown",
      "metadata": {
        "id": "view-in-github",
        "colab_type": "text"
      },
      "source": [
        "<a href=\"https://colab.research.google.com/github/anminhyeok032/CJ_Object_Detection/blob/main/train.ipynb\" target=\"_parent\"><img src=\"https://colab.research.google.com/assets/colab-badge.svg\" alt=\"Open In Colab\"/></a>"
      ]
    },
    {
      "cell_type": "markdown",
      "metadata": {
        "id": "7mN4SrQddqQx"
      },
      "source": [
        "# CJ 프로젝트\n",
        "## CJ대한통운 미래기술챌린지 2023\n",
        "#### 미래기술챌린지 2023 , 2. 비전을 활용한 스마트 검수\n",
        "#### 사물 인식 프로그램\n",
        "##### 최초 학습용 코드\n",
        "마지막 수정일자 : 2023.8.14"
      ]
    },
    {
      "cell_type": "markdown",
      "source": [
        "한글 출력을 위한 폰트 다운로드\n",
        "\n"
      ],
      "metadata": {
        "id": "fZBZoNqmaIWO"
      }
    },
    {
      "cell_type": "code",
      "source": [
        "!wget \"https://www.wfonts.com/download/data/2016/06/13/malgun-gothic/malgun.ttf\"\n",
        "!mv malgun.ttf /usr/share/fonts/truetype/"
      ],
      "metadata": {
        "id": "znRiwd7wxnHN"
      },
      "execution_count": null,
      "outputs": []
    },
    {
      "cell_type": "markdown",
      "source": [
        "모델 학습하기 - 최초 학습 시에만 사용"
      ],
      "metadata": {
        "id": "AJjwHksAaXVT"
      }
    },
    {
      "cell_type": "code",
      "source": [
        "# run this cell to begin training\n",
        "# ***yolov7***\n",
        "%cd /content/공모전/yolov7\n",
        "!python train.py --img 640 640 --batch 16 --epochs 50 --data /content/공모전/test-15/data.yaml --weights 'yolov7.pt' --device 0 --cache --name result --hyp data/hyp.scratch.p5.yaml --cfg cfg/training/yolov7.yaml --workers 8"
      ],
      "metadata": {
        "id": "jb4pLRA3jz93"
      },
      "execution_count": null,
      "outputs": []
    },
    {
      "cell_type": "markdown",
      "source": [
        "모델 학습하기 - 추가 학습 시 사용"
      ],
      "metadata": {
        "id": "90PCfma4gNwJ"
      }
    },
    {
      "cell_type": "code",
      "source": [
        "# run this cell to begin training\n",
        "# ***yolov7***\n",
        "%cd /content/공모전/yolov7\n",
        "!python train.py --img 640 640 --batch 32 --epochs 50 --data /content/공모전/test-15/data.yaml --weights 'yolov7_best.pt' --device 0 --cache --name result --hyp data/hyp.scratch.p5.yaml --cfg cfg/training/yolov7.yaml --workers 8 --freeze 105"
      ],
      "metadata": {
        "id": "QwtN43n4fjp3"
      },
      "execution_count": null,
      "outputs": []
    },
    {
      "cell_type": "markdown",
      "source": [
        "학습 현황 확인"
      ],
      "metadata": {
        "id": "GymYTuWiaeLN"
      }
    },
    {
      "cell_type": "code",
      "execution_count": null,
      "metadata": {
        "id": "GtjxU5JqvpZg"
      },
      "outputs": [],
      "source": [
        "%load_ext tensorboard\n",
        "%tensorboard --logdir /content/yolov7/runs/"
      ]
    },
    {
      "cell_type": "markdown",
      "source": [
        "학습 완료된 모델 객체 탐지 테스트"
      ],
      "metadata": {
        "id": "KtuqTMWQag18"
      }
    },
    {
      "cell_type": "code",
      "source": [
        "# detect yolov7\n",
        "%cd /content/yolov7\n",
        "val_img_path = '/content/공모전/test-15/train/images/cart_0802_jpg.rf.7eae2cfac625561fd7f99b47dcbe683c.jpg'\n",
        "!python detect.py --weights /content/공모전/yolov7/runs/train/result/weights/best.pt --img-size 640 --conf 0.5 --source \"{val_img_path}\" --agnostic-nms"
      ],
      "metadata": {
        "id": "sn_zMKCrlEMZ"
      },
      "execution_count": null,
      "outputs": []
    }
  ],
  "metadata": {
    "colab": {
      "provenance": [],
      "gpuType": "T4",
      "include_colab_link": true
    },
    "kernelspec": {
      "display_name": "Python 3",
      "name": "python3"
    },
    "accelerator": "GPU"
  },
  "nbformat": 4,
  "nbformat_minor": 0
}